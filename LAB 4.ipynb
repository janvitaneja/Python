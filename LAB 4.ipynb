{
 "cells": [
  {
   "cell_type": "code",
   "execution_count": 2,
   "metadata": {},
   "outputs": [],
   "source": [
    "##LAB4"
   ]
  },
  {
   "cell_type": "code",
   "execution_count": 6,
   "metadata": {},
   "outputs": [
    {
     "name": "stdout",
     "output_type": "stream",
     "text": [
      "enter number123nlasd\n",
      "('1', '2', '3', 'n', 'l', 'a', 's', 'd')\n"
     ]
    }
   ],
   "source": [
    "#Q1 Write a Python program to create a tuple.\n",
    "a=(1,2,3)\n"
   ]
  },
  {
   "cell_type": "code",
   "execution_count": 7,
   "metadata": {},
   "outputs": [],
   "source": [
    "#Q2 Write a Python program to create a tuple with different data types.  \n",
    "a=(1,2,3,\"a\",\"b\",5.5,6.5,True)"
   ]
  },
  {
   "cell_type": "code",
   "execution_count": 8,
   "metadata": {},
   "outputs": [
    {
     "name": "stdout",
     "output_type": "stream",
     "text": [
      "8\n"
     ]
    }
   ],
   "source": [
    "#Q3 Write a Python program to create a tuple with numbers and print one item.  \n",
    "a=(12,3,4,6,7,8)\n",
    "print(a[5])"
   ]
  },
  {
   "cell_type": "code",
   "execution_count": 9,
   "metadata": {},
   "outputs": [
    {
     "name": "stdout",
     "output_type": "stream",
     "text": [
      "1 2 3\n"
     ]
    }
   ],
   "source": [
    "#Q4 Write a Python program to unpack a tuple in several variables\n",
    "a=(1,2,3)\n",
    "b=a[0]\n",
    "c=a[1]\n",
    "d=a[2]\n",
    "print(b,c,d)"
   ]
  },
  {
   "cell_type": "code",
   "execution_count": 12,
   "metadata": {},
   "outputs": [
    {
     "name": "stdout",
     "output_type": "stream",
     "text": [
      "(1, 2, 3, 4)\n"
     ]
    }
   ],
   "source": [
    "#Q5 Write a Python program to add an item in a tuple.\n",
    "a=(1,2,3)\n",
    "a=a+(4,)\n",
    "print(a)"
   ]
  },
  {
   "cell_type": "code",
   "execution_count": 21,
   "metadata": {},
   "outputs": [
    {
     "name": "stdout",
     "output_type": "stream",
     "text": [
      "abc\n",
      "<class 'str'>\n",
      "('a', 'b', 'c')\n",
      "<class 'str'>\n",
      "a\n"
     ]
    }
   ],
   "source": [
    "#Q6 Write a Python program to convert a tuple to a string. \n",
    "a=('a','b','c')\n",
    "b=a[0]+a[1]+a[2]\n",
    "#or we can use str function to convert tuple into string\n",
    "c=str(a)\n",
    "print(b)\n",
    "print(type(b))\n",
    "print(c)\n",
    "print(type(c))"
   ]
  },
  {
   "cell_type": "code",
   "execution_count": 22,
   "metadata": {},
   "outputs": [
    {
     "name": "stdout",
     "output_type": "stream",
     "text": [
      "4\n",
      "5\n"
     ]
    }
   ],
   "source": [
    "#Q7 Write a Python program to get the 4th element from the starting  and 4th element from last of a tuple\n",
    "a=(1,2,3,4,5,6,7,8)\n",
    "print(a[3])\n",
    "print(a[-4])"
   ]
  },
  {
   "cell_type": "code",
   "execution_count": 30,
   "metadata": {},
   "outputs": [
    {
     "name": "stdout",
     "output_type": "stream",
     "text": [
      ":\n",
      "<class 'str'>\n"
     ]
    }
   ],
   "source": [
    "#Q8 Write a Python program to create the colon of a tuple.  \n",
    "MyTuple = (':')\n",
    "MyColon,=MyTuple\n",
    "print(MyColon)\n",
    "print(type(MyTuple))"
   ]
  },
  {
   "cell_type": "code",
   "execution_count": 46,
   "metadata": {},
   "outputs": [
    {
     "name": "stdout",
     "output_type": "stream",
     "text": [
      "repeated elements are (1, 2, 5, 3)\n"
     ]
    }
   ],
   "source": [
    "#Q9 Write a Python program to find the repeated items of a tuple. \n",
    "a=(1,2,4,5,3,3,1,2,2,3,5)\n",
    "a=list(a)\n",
    "b=tuple()\n",
    "for i in range(0,len(a)):\n",
    "    for j in range(i+1,len(a)):\n",
    "        if a[i]==a[j]:\n",
    "            if a[i] in b:\n",
    "                continue\n",
    "            else:\n",
    "                b=b+(a[i],)\n",
    "print(\"repeated elements are\",b)\n",
    "    "
   ]
  },
  {
   "cell_type": "code",
   "execution_count": 54,
   "metadata": {},
   "outputs": [
    {
     "name": "stdout",
     "output_type": "stream",
     "text": [
      "enter searching element3\n",
      "element exist in the tuple \n"
     ]
    }
   ],
   "source": [
    "#Q10 Write a Python program to check whether an element exists within a tuple.  \n",
    "a=(1,2,3,45,23,5,2)\n",
    "b=eval(input(\"enter searching element\"))\n",
    "if b in a:\n",
    "    print(\"element exist in the tuple \")\n",
    "else:\n",
    "    print(\"element not exist\")\n",
    "    "
   ]
  },
  {
   "cell_type": "code",
   "execution_count": 55,
   "metadata": {},
   "outputs": [
    {
     "name": "stdout",
     "output_type": "stream",
     "text": [
      "<class 'tuple'>\n"
     ]
    }
   ],
   "source": [
    "#Q11 Write a Python program to convert a list to a tuple.  \n",
    "a=[1,2,3,4]\n",
    "a=tuple(a)\n",
    "print(type(a))"
   ]
  },
  {
   "cell_type": "code",
   "execution_count": 57,
   "metadata": {},
   "outputs": [
    {
     "name": "stdout",
     "output_type": "stream",
     "text": [
      "enter element you want to remove11\n",
      "after removing element tuple is  (12, 13, 14, 15)\n"
     ]
    }
   ],
   "source": [
    "#Q12 Write a Python program to remove an item from a tuple.\n",
    "a=(11,12,13,14,15)\n",
    "b=int(input(\"enter element you want to remove\"))\n",
    "a=list(a)\n",
    "\n",
    "if b in a:\n",
    "    a.remove(b)\n",
    "    print(\"after removing element tuple is \" , tuple(a))\n",
    "else:\n",
    "    print(\"element not present in the tuple\")"
   ]
  },
  {
   "cell_type": "code",
   "execution_count": 58,
   "metadata": {},
   "outputs": [
    {
     "name": "stdout",
     "output_type": "stream",
     "text": [
      "(3, 4, 5)\n"
     ]
    }
   ],
   "source": [
    "#Q13 Write a Python program to slice a tuple \n",
    "a=(1,2,3,4,5)\n",
    "print(a[2:6])"
   ]
  },
  {
   "cell_type": "code",
   "execution_count": 61,
   "metadata": {},
   "outputs": [
    {
     "name": "stdout",
     "output_type": "stream",
     "text": [
      "enter item5\n",
      "index of given item is  5\n"
     ]
    }
   ],
   "source": [
    "#Q14 Write a Python program to find the index of an item of a tuple.  \n",
    "a=(1,2,3,4,5,6)\n",
    "b=int(input(\"enter item\"))\n",
    "print(\"index of given item is \",a.index(b)+1)"
   ]
  },
  {
   "cell_type": "code",
   "execution_count": 77,
   "metadata": {},
   "outputs": [
    {
     "name": "stdout",
     "output_type": "stream",
     "text": [
      "length of tuple = 6\n"
     ]
    }
   ],
   "source": [
    "#Q15 Write a Python program to find the length of a tuple. \n",
    "a=(1,2,3,4,5,6)\n",
    "print(\"length of tuple =\",len(a))"
   ]
  },
  {
   "cell_type": "code",
   "execution_count": 76,
   "metadata": {},
   "outputs": [
    {
     "name": "stdout",
     "output_type": "stream",
     "text": [
      "[6, 5, 4, 3, 2, 1]\n"
     ]
    }
   ],
   "source": [
    "#Q16 Write a Python program to reverse a tuple. \n",
    "a=(1,2,3,4,5,6)\n",
    "a=list(a)\n",
    "a.reverse()\n",
    "print(a)"
   ]
  }
 ],
 "metadata": {
  "kernelspec": {
   "display_name": "Python 3",
   "language": "python",
   "name": "python3"
  },
  "language_info": {
   "codemirror_mode": {
    "name": "ipython",
    "version": 3
   },
   "file_extension": ".py",
   "mimetype": "text/x-python",
   "name": "python",
   "nbconvert_exporter": "python",
   "pygments_lexer": "ipython3",
   "version": "3.8.5"
  }
 },
 "nbformat": 4,
 "nbformat_minor": 4
}
