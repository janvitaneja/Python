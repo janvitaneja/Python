{
 "cells": [
  {
   "cell_type": "code",
   "execution_count": 2,
   "metadata": {},
   "outputs": [
    {
     "name": "stdout",
     "output_type": "stream",
     "text": [
      "num =  1\n",
      "num =  2\n",
      "num =  3\n",
      "else block executed\n"
     ]
    }
   ],
   "source": [
    "#Q1\n",
    "num = 0\n",
    "\n",
    "while num < 3:\n",
    "\tnum += 1   # num += 1 is same as num = num + 1\n",
    "\tprint('num = ', num)\n",
    "else:\n",
    "    print('else block executed')\n"
   ]
  },
  {
   "cell_type": "code",
   "execution_count": 3,
   "metadata": {},
   "outputs": [
    {
     "name": "stdout",
     "output_type": "stream",
     "text": [
      "Enter your limit? \n",
      "5\n",
      "0\n",
      "2\n",
      "4\n"
     ]
    }
   ],
   "source": [
    "#Q2\n",
    "n = int(input('Enter your limit? \\n')) \n",
    " \n",
    "for x in range(0, n): \n",
    "    if (x % 2 == 0): \n",
    "        print(x) "
   ]
  },
  {
   "cell_type": "code",
   "execution_count": 6,
   "metadata": {},
   "outputs": [
    {
     "name": "stdout",
     "output_type": "stream",
     "text": [
      "1  \n",
      "3  \n"
     ]
    }
   ],
   "source": [
    "#Q3\n",
    "for i in [1,2,3,4]:\n",
    "    if i % 2 == 0:\n",
    "        continue\n",
    "    print(i, \" \")\n",
    " "
   ]
  },
  {
   "cell_type": "code",
   "execution_count": 7,
   "metadata": {},
   "outputs": [
    {
     "name": "stdout",
     "output_type": "stream",
     "text": [
      "11\n",
      "9\n",
      "89\n"
     ]
    }
   ],
   "source": [
    "#Q4\n",
    "for num in [20, 11, 9, 66, 4, 89, 44]:\n",
    "    if num%2 == 0:\n",
    "        pass\n",
    "    else:\n",
    "        print(num)"
   ]
  },
  {
   "cell_type": "code",
   "execution_count": 9,
   "metadata": {},
   "outputs": [
    {
     "name": "stdout",
     "output_type": "stream",
     "text": [
      "Enter a string: 32423 545 654\n",
      "Length of the input string is: 13\n"
     ]
    }
   ],
   "source": [
    "#Q5\n",
    "str = input(\"Enter a string: \")\n",
    "\n",
    "\n",
    "counter = 0\n",
    "for s in str:\n",
    "      counter = counter+1\n",
    "print(\"Length of the input string is:\", counter)"
   ]
  },
  {
   "cell_type": "code",
   "execution_count": 10,
   "metadata": {},
   "outputs": [
    {
     "name": "stdout",
     "output_type": "stream",
     "text": [
      "enter the string\n",
      "HDSHF HSFUSF KJFGIDJ\n",
      "20  characters are present in the string\n"
     ]
    }
   ],
   "source": [
    "#Q6\n",
    "print(\"enter the string\")\n",
    "str1=input()\n",
    "count=0\n",
    "for i in str1:\n",
    "    if i:\n",
    "        count=count+1\n",
    "print (count, \" characters are present in the string\")\n"
   ]
  },
  {
   "cell_type": "code",
   "execution_count": 11,
   "metadata": {},
   "outputs": [
    {
     "name": "stdout",
     "output_type": "stream",
     "text": [
      "enter the string\n",
      "tuery ytur\n",
      "the new string is tuur\n"
     ]
    }
   ],
   "source": [
    "#Q7\n",
    "print(\"enter the string\")\n",
    "str1=input()\n",
    "def make_string(str1):\n",
    "    if len(str1)<=2:\n",
    "        return ''\n",
    "    else:\n",
    "        print(\"the new string is\",str1[0:2]+str1[-2:])\n",
    "make_string(str1)\n"
   ]
  },
  {
   "cell_type": "code",
   "execution_count": 12,
   "metadata": {},
   "outputs": [
    {
     "name": "stdout",
     "output_type": "stream",
     "text": [
      "enter a string\n",
      "uyt iut\n",
      " the new string is  uyt i$t\n"
     ]
    }
   ],
   "source": [
    "#Q8\n",
    "print(\"enter a string\")\n",
    "str1=input()\n",
    "char1=str1[0]\n",
    "new_str=str1.replace(char1,\"$\")\n",
    "print (\" the new string is \",char1+new_str[1:])"
   ]
  },
  {
   "cell_type": "code",
   "execution_count": 13,
   "metadata": {},
   "outputs": [
    {
     "name": "stdout",
     "output_type": "stream",
     "text": [
      "enter string 1\n",
      "yui ytr\n",
      "enter second string\n",
      "yui frt jky\n",
      "the new string is  kyi ytr  tri frt jky\n"
     ]
    }
   ],
   "source": [
    "#Q9\n",
    "print( \"enter string 1\")\n",
    "str1=input()\n",
    "print(\"enter second string\")\n",
    "str2=input()\n",
    "print(\"the new string is \",str2[-2:]+str1[2:],\"\",str1[-2:]+str2[2:])\n"
   ]
  },
  {
   "cell_type": "code",
   "execution_count": 14,
   "metadata": {},
   "outputs": [
    {
     "name": "stdout",
     "output_type": "stream",
     "text": [
      "enter a string\n",
      "hji nmk ghy\n",
      "11\n",
      "new string is hji nmk ghying\n"
     ]
    }
   ],
   "source": [
    "#Q10\n",
    "print(\"enter a string\")\n",
    "str1=input()\n",
    "print(len(str1))\n",
    "def make_new_string(str1):\n",
    "    if len(str1)>2:\n",
    "        if str1[-3:]=='ing':\n",
    "            str1=str1+'ly'\n",
    "            print(\"new string is \"+str1)\n",
    "        else:\n",
    "            str1=str1+'ing'\n",
    "            print(\"new string is \"+str1)\n",
    "    else:\n",
    "        print(\"the string remains unchanged \", str1)\n",
    "make_new_string(str1)"
   ]
  }
 ],
 "metadata": {
  "kernelspec": {
   "display_name": "Python 3",
   "language": "python",
   "name": "python3"
  },
  "language_info": {
   "codemirror_mode": {
    "name": "ipython",
    "version": 3
   },
   "file_extension": ".py",
   "mimetype": "text/x-python",
   "name": "python",
   "nbconvert_exporter": "python",
   "pygments_lexer": "ipython3",
   "version": "3.8.5"
  }
 },
 "nbformat": 4,
 "nbformat_minor": 4
}
