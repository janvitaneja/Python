{
 "cells": [
  {
   "cell_type": "code",
   "execution_count": 1,
   "metadata": {},
   "outputs": [
    {
     "name": "stdout",
     "output_type": "stream",
     "text": [
      "num123\n",
      "num245\n",
      "1035\n"
     ]
    }
   ],
   "source": [
    "#Q1 \n",
    "def mul(a,b):\n",
    "    c=a*b\n",
    "    return(c)\n",
    "\n",
    "a=int(input(\"num1\"))\n",
    "b=int(input(\"num2\"))\n",
    "c=mul(a,b)\n",
    "print (c)\n"
   ]
  },
  {
   "cell_type": "code",
   "execution_count": 2,
   "metadata": {},
   "outputs": [
    {
     "name": "stdout",
     "output_type": "stream",
     "text": [
      "num156\n",
      "num239\n",
      "95\n"
     ]
    }
   ],
   "source": [
    "#Q2\n",
    "def add(a,b):\n",
    "    c=a+b\n",
    "    return(c)\n",
    "\n",
    "a=int(input(\"num1\"))\n",
    "b=int(input(\"num2\"))\n",
    "c=add(a,b)\n",
    "print (c)"
   ]
  },
  {
   "cell_type": "code",
   "execution_count": 3,
   "metadata": {},
   "outputs": [
    {
     "name": "stdout",
     "output_type": "stream",
     "text": [
      "67\n",
      "36471110918188685288249859096605464427167635314049524593701628500267962436943872000000000000000\n"
     ]
    }
   ],
   "source": [
    "#Q3\n",
    "def fact(n):\n",
    "    fact=1;\n",
    "    for i in range(n,0,-1):\n",
    "        fact=fact*i\n",
    "    return (fact)\n",
    "a=int(input())\n",
    "b=fact(a)\n",
    "print(b)"
   ]
  },
  {
   "cell_type": "code",
   "execution_count": 5,
   "metadata": {},
   "outputs": [
    {
     "name": "stdout",
     "output_type": "stream",
     "text": [
      "40\n",
      "1 1 2 3 5 8 13 21 34 55 89 144 233 377 610 987 1597 2584 4181 6765 10946 17711 28657 46368 75025 121393 196418 317811 514229 832040 1346269 2178309 3524578 5702887 9227465 14930352 24157817 39088169 63245986 102334155 165580141 267914296 "
     ]
    }
   ],
   "source": [
    "#Q4\n",
    "def fibonacci(n):\n",
    "    k=1\n",
    "    a=1\n",
    "    b=1\n",
    "    print(a, end=\" \")\n",
    "    print(b, end=\" \")\n",
    "    while(k<=n):\n",
    "        if n==1:\n",
    "            return(0)\n",
    "        elif n==2:\n",
    "            return(1)\n",
    "        else:\n",
    "            c=a+b\n",
    "            print(c,end=\" \")\n",
    "            a=b\n",
    "            b=c\n",
    "            k=k+1\n",
    "            \n",
    "a=int(input())\n",
    "fibonacci(a)"
   ]
  },
  {
   "cell_type": "code",
   "execution_count": 9,
   "metadata": {},
   "outputs": [
    {
     "name": "stdout",
     "output_type": "stream",
     "text": [
      "7\n",
      "6\n",
      "(6, 7)\n"
     ]
    }
   ],
   "source": [
    "#Q5\n",
    "a=int(input())\n",
    "b=int(input())\n",
    "def swap(m,n):\n",
    "    temp=m\n",
    "    m=n\n",
    "    n=temp\n",
    "    return(m,n)\n",
    "result=swap(a,b)\n",
    "print(result)"
   ]
  },
  {
   "cell_type": "code",
   "execution_count": 6,
   "metadata": {},
   "outputs": [
    {
     "name": "stdout",
     "output_type": "stream",
     "text": [
      " Please Enter the First Number : 6\n",
      " Please Enter the Second Number : 7\n",
      "The H.C.F. is 1\n"
     ]
    }
   ],
   "source": [
    "#Q6\n",
    "def compute_hcf(x, y):\n",
    "    if x > y:\n",
    "        smaller = y\n",
    "    else:\n",
    "        smaller = x\n",
    "    for i in range(1, smaller+1):\n",
    "        if((x % i == 0) and (y % i == 0)):\n",
    "            hcf = i \n",
    "    return hcf\n",
    "\n",
    "num1 = int(input(\" Please Enter the First Number : \")) \n",
    "num2 = int(input(\" Please Enter the Second Number : \"))\n",
    "\n",
    "print(\"The H.C.F. is\", compute_hcf(num1, num2))\n"
   ]
  },
  {
   "cell_type": "code",
   "execution_count": 7,
   "metadata": {},
   "outputs": [
    {
     "name": "stdout",
     "output_type": "stream",
     "text": [
      " Please Enter the Alphabet : Y\n",
      "The ASCII value of 'Y' is 89\n"
     ]
    }
   ],
   "source": [
    "#Q7\n",
    "c = (input(\" Please Enter the Alphabet : \")) \n",
    "print(\"The ASCII value of '\" + c + \"' is\", ord(c))"
   ]
  },
  {
   "cell_type": "code",
   "execution_count": 8,
   "metadata": {},
   "outputs": [
    {
     "data": {
      "text/plain": [
       "7"
      ]
     },
     "execution_count": 8,
     "metadata": {},
     "output_type": "execute_result"
    }
   ],
   "source": [
    "#Q8\n",
    "abs(-7)"
   ]
  },
  {
   "cell_type": "code",
   "execution_count": 10,
   "metadata": {},
   "outputs": [
    {
     "name": "stdout",
     "output_type": "stream",
     "text": [
      "Present date is : 2021-07-15\n"
     ]
    }
   ],
   "source": [
    "#Q9\n",
    "import datetime \n",
    "from datetime import date  \n",
    "print (\"Present date is : \",end=\"\") \n",
    "print (date.today())\n"
   ]
  },
  {
   "cell_type": "code",
   "execution_count": 11,
   "metadata": {},
   "outputs": [
    {
     "name": "stdout",
     "output_type": "stream",
     "text": [
      "calling function 1st time\n",
      "calling function 2nd time\n"
     ]
    }
   ],
   "source": [
    "#Q10\n",
    "def printme( str ):\n",
    "   \"This prints a passed string into this function\"\n",
    "   print (str)\n",
    "   return;\n",
    "\n",
    "\n",
    "printme(\"calling function 1st time\")\n",
    "printme(\"calling function 2nd time\")"
   ]
  },
  {
   "cell_type": "code",
   "execution_count": 12,
   "metadata": {},
   "outputs": [
    {
     "name": "stdout",
     "output_type": "stream",
     "text": [
      "student1 stdent1_ln\n",
      "Student1 student2_ln\n"
     ]
    }
   ],
   "source": [
    "#Q11\n",
    "def student(firstname, lastname):  \n",
    "     print(firstname, lastname)  \n",
    "    \n",
    "    \n",
    "          \n",
    "student(firstname ='student1', lastname ='stdent1_ln')     \n",
    "student(lastname ='student2_ln', firstname ='Student1')"
   ]
  },
  {
   "cell_type": "code",
   "execution_count": 13,
   "metadata": {},
   "outputs": [
    {
     "name": "stdout",
     "output_type": "stream",
     "text": [
      "x:  100\n",
      "y:  500\n"
     ]
    }
   ],
   "source": [
    "#Q12\n",
    "def myFun(x, y=500): \n",
    "    print(\"x: \", x) \n",
    "    print(\"y: \", y) \n",
    "  \n",
    "myFun(100)"
   ]
  },
  {
   "cell_type": "code",
   "execution_count": 14,
   "metadata": {},
   "outputs": [
    {
     "name": "stdout",
     "output_type": "stream",
     "text": [
      "lab\n",
      "exercise\n",
      "for\n",
      "python\n"
     ]
    }
   ],
   "source": [
    "#Q13\n",
    "def myFun(*argv):  \n",
    "    for arg in argv:  \n",
    "        print (arg) \n",
    "    \n",
    "myFun('lab', 'exercise', 'for', 'python')"
   ]
  }
 ],
 "metadata": {
  "kernelspec": {
   "display_name": "Python 3",
   "language": "python",
   "name": "python3"
  },
  "language_info": {
   "codemirror_mode": {
    "name": "ipython",
    "version": 3
   },
   "file_extension": ".py",
   "mimetype": "text/x-python",
   "name": "python",
   "nbconvert_exporter": "python",
   "pygments_lexer": "ipython3",
   "version": "3.8.5"
  }
 },
 "nbformat": 4,
 "nbformat_minor": 4
}
