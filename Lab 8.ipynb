{
 "cells": [
  {
   "cell_type": "code",
   "execution_count": 1,
   "metadata": {},
   "outputs": [
    {
     "name": "stdout",
     "output_type": "stream",
     "text": [
      "0\n",
      "0\n"
     ]
    }
   ],
   "source": [
    "#Q1\n",
    "class Triangle:\n",
    "    a=0\n",
    "    b=0\n",
    "    def create_triangle(self, side1, side2):\n",
    "        a=side1\n",
    "        b=side2\n",
    "        #print(a)\n",
    "    def print_sides(self):\n",
    "        print(self.a)\n",
    "        print(self.b)\n",
    "                \n",
    "ob1=Triangle()\n",
    "ob1.create_triangle(10,20)\n",
    "ob1.print_sides()"
   ]
  },
  {
   "cell_type": "code",
   "execution_count": 2,
   "metadata": {},
   "outputs": [
    {
     "name": "stdout",
     "output_type": "stream",
     "text": [
      "string\n",
      "STRING\n"
     ]
    }
   ],
   "source": [
    "#Q2\n",
    "class IOString():\n",
    "    def __init__(self):\n",
    "        self.str1 = \"\"\n",
    "\n",
    "    def get_String(self):\n",
    "        self.str1 = input()\n",
    "\n",
    "    def print_String(self):\n",
    "        print(self.str1.upper())\n",
    "\n",
    "str1 = IOString()\n",
    "str1.get_String()\n",
    "str1.print_String()"
   ]
  },
  {
   "cell_type": "code",
   "execution_count": 3,
   "metadata": {},
   "outputs": [
    {
     "name": "stdout",
     "output_type": "stream",
     "text": [
      "the perimeter of rectangle is 400\n"
     ]
    }
   ],
   "source": [
    "#Q3\n",
    "class Rectangle:\n",
    "    length=0.0\n",
    "    width=0.0\n",
    "    per=0.0\n",
    "    def rect_values(self, l, w):\n",
    "        self.length=l\n",
    "        self.width=w\n",
    "    def perimeter(self):\n",
    "    \n",
    "        self.per=2*self.length*self.width\n",
    "        return(self.per)\n",
    "    \n",
    "r1= Rectangle()\n",
    "r1.rect_values(10,20)\n",
    "k=r1.perimeter()\n",
    "print(\"the perimeter of rectangle is\",k)"
   ]
  },
  {
   "cell_type": "code",
   "execution_count": null,
   "metadata": {},
   "outputs": [],
   "source": [
    "#Q4\n",
    "class Circle:\n",
    "    rad=0.0\n",
    "    def __init__ (self,r): \n",
    "        self.rad=r\n",
    "    def __init__(self):\n",
    "        self.rad=10.0\n",
    "        \n",
    "    def area(self):\n",
    "        return(3.14*self.rad*self.rad)\n",
    "    def perimeter(self):\n",
    "        return(2*3.14*self.rad)\n",
    "ob1= Circle(1.5)\n",
    "print(\"the area of circle is\" ,ob1.area())\n",
    "print(\"the perimeter of circle is \",ob1.perimeter())"
   ]
  },
  {
   "cell_type": "code",
   "execution_count": 6,
   "metadata": {},
   "outputs": [
    {
     "name": "stdout",
     "output_type": "stream",
     "text": [
      "200.96\n",
      "50.24\n"
     ]
    }
   ],
   "source": [
    "#Q5\n",
    "class Circle():\n",
    "    def __init__(self, r):\n",
    "        self.radius = r\n",
    "\n",
    "    def area(self):\n",
    "        return self.radius**2*3.14\n",
    "    \n",
    "    def perimeter(self):\n",
    "        return 2*self.radius*3.14\n",
    "\n",
    "NewCircle = Circle(8)\n",
    "print(NewCircle.area())\n",
    "print(NewCircle.perimeter())"
   ]
  },
  {
   "cell_type": "code",
   "execution_count": 9,
   "metadata": {},
   "outputs": [
    {
     "name": "stdout",
     "output_type": "stream",
     "text": [
      "Enter temperature in celsius: 39\n",
      "39.00 Celsius is: 102.20 Fahrenheit\n"
     ]
    }
   ],
   "source": [
    "#Q6 (A)\n",
    "celsius = float(input(\"Enter temperature in celsius: \"))\n",
    "fahrenheit = (celsius * 9/5) + 32\n",
    "print('%.2f Celsius is: %0.2f Fahrenheit' %(celsius, fahrenheit))"
   ]
  },
  {
   "cell_type": "code",
   "execution_count": 8,
   "metadata": {},
   "outputs": [
    {
     "name": "stdout",
     "output_type": "stream",
     "text": [
      "Enter temperature in fahrenheit: 97\n",
      "97.00 Fahrenheit is: 36.11 Celsius\n"
     ]
    }
   ],
   "source": [
    "#Q6 (B)\n",
    "fahrenheit = float(input(\"Enter temperature in fahrenheit: \"))\n",
    "celsius = (fahrenheit - 32) * 5/9\n",
    "print('%.2f Fahrenheit is: %0.2f Celsius' %(fahrenheit, celsius))"
   ]
  },
  {
   "cell_type": "code",
   "execution_count": 16,
   "metadata": {},
   "outputs": [],
   "source": [
    "#Q7\n",
    "class Student():\n",
    "  def __init__(self,name,roll):\n",
    "    self.name = name\n",
    "    self.roll= roll\n",
    "  def display(self):\n",
    "    print (self.name)\n",
    "    print (self.roll)\n",
    "  def setAge(self,age):\n",
    "    self.age=age\n",
    "  def setMarks(self,marks):\n",
    "    self.marks = marks"
   ]
  },
  {
   "cell_type": "code",
   "execution_count": 17,
   "metadata": {},
   "outputs": [
    {
     "name": "stdout",
     "output_type": "stream",
     "text": [
      "Janvi is name My\n"
     ]
    }
   ],
   "source": [
    "#Q8\n",
    "string = \"My name is Janvi\"\n",
    "\n",
    "words = string.split()\n",
    "\n",
    "words = list(reversed(words))\n",
    "\n",
    "print(\" \".join(words))\n"
   ]
  }
 ],
 "metadata": {
  "kernelspec": {
   "display_name": "Python 3",
   "language": "python",
   "name": "python3"
  },
  "language_info": {
   "codemirror_mode": {
    "name": "ipython",
    "version": 3
   },
   "file_extension": ".py",
   "mimetype": "text/x-python",
   "name": "python",
   "nbconvert_exporter": "python",
   "pygments_lexer": "ipython3",
   "version": "3.8.5"
  }
 },
 "nbformat": 4,
 "nbformat_minor": 4
}
