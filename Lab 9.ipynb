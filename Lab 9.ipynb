{
 "cells": [
  {
   "cell_type": "code",
   "execution_count": null,
   "metadata": {},
   "outputs": [],
   "source": [
    "#Q1\n",
    "duck = Dog()      \n",
    "print( duck.legNumber )   # 0 (variable defined in parent class)\n",
    "dog.setLeg(2)    # access parent method\n",
    "print( duck.legNumber )   # 2\n",
    "\n",
    "dog = Dog('Dog', 2)  \n",
    "dog.describe()   \n",
    "\n",
    "class Tiger:\n",
    "    def __init__(self, legNumber = 4)\n",
    "        self.type = 'Tiger'\n",
    "        self.legNumber = legNumber\n",
    "\n",
    "    def getLeg(self):\n",
    "        if self.legNumber != 4:\n",
    "            return \"Tiger! A tiger with %d legs!\" % (self.legNumber)\n",
    "        else:\n",
    "            return self.legNumber\n",
    "\n",
    "Tiger = Tiger()     \n",
    "\n",
    "print(tiger.legNumber)    \n",
    "tiger.describe()    \n",
    "tiger.setLeg(2)      \n",
    "\n",
    "print( cow.getLeg() )    \n",
    "\n",
    "tiger2 = Cow(3)    \n",
    "tiger2.describe() "
   ]
  },
  {
   "cell_type": "code",
   "execution_count": null,
   "metadata": {},
   "outputs": [],
   "source": [
    "#Q2\n",
    "class person:\n",
    "    engineer_name=\"\"\n",
    "    employee_name=\"\"\n",
    "    manger_name=\"\"\n",
    "    def disp_emgineern(self):\n",
    "        print(self.engineer_name)\n",
    "class Employee(Person):\n",
    "    def disp_employee(self):\n",
    "        print(self.employee_name)\n",
    "class Teacher(Employee):\n",
    "    def disp_manager(self):\n",
    "        print(self.manager_name)\n",
    "ob1=manager()\n",
    "ob1.person_name=\"engineer1\"\n",
    "ob1.employee_name=\"employee1\"\n",
    "ob1.teacher_name=\"manager1\"\n",
    "ob1.disp_person()"
   ]
  },
  {
   "cell_type": "code",
   "execution_count": 2,
   "metadata": {},
   "outputs": [
    {
     "name": "stdout",
     "output_type": "stream",
     "text": [
      "post\n"
     ]
    }
   ],
   "source": [
    "#Q3\n",
    "class A:\n",
    "    x=\"\"\n",
    "    def disp(self):\n",
    "        print(x)\n",
    "class B:\n",
    "    def prnt(self):\n",
    "        print(p)\n",
    "o=B()\n",
    "o.p=\"post\"\n",
    "print(o.p)"
   ]
  },
  {
   "cell_type": "code",
   "execution_count": 3,
   "metadata": {},
   "outputs": [
    {
     "name": "stdout",
     "output_type": "stream",
     "text": [
      "Inside Parent\n",
      "Inside Child\n"
     ]
    }
   ],
   "source": [
    "#Q4 (A)\n",
    "\n",
    "class Parent():\n",
    "      \n",
    "    # Constructor\n",
    "    def __init__(self):\n",
    "        self.value = \"Inside Parent\"\n",
    "          \n",
    "    \n",
    "    def show(self):\n",
    "        print(self.value)\n",
    "          \n",
    "\n",
    "class Child(Parent):\n",
    "      \n",
    " \n",
    "    def __init__(self):\n",
    "        self.value = \"Inside Child\"\n",
    " \n",
    "    def show(self):\n",
    "        print(self.value)\n",
    "          \n",
    "          \n",
    "\n",
    "obj1 = Parent()\n",
    "obj2 = Child()\n",
    "  \n",
    "obj1.show()\n",
    "obj2.show()"
   ]
  },
  {
   "cell_type": "code",
   "execution_count": 4,
   "metadata": {},
   "outputs": [
    {
     "name": "stdout",
     "output_type": "stream",
     "text": [
      "person1\n"
     ]
    }
   ],
   "source": [
    "#Q4 (B) multilevel inheritance\n",
    "\n",
    "class Person:\n",
    "    person_name=\"\"\n",
    "    employee_name=\"\"\n",
    "    teacher_name=\"\"\n",
    "    def disp_person(self):\n",
    "        print(self.person_name)\n",
    "\n",
    "class Employee(Person):\n",
    "    def disp_employee(self):\n",
    "        print(self.employee_name)\n",
    "class Teacher(Employee):\n",
    "    def disp_teacher(self):\n",
    "        print(self.teacher_name)\n",
    "ob1=Teacher()\n",
    "ob1.person_name=\"person1\"\n",
    "ob1.employee_name=\"employee1\"\n",
    "ob1.teacher_name=\"teacher1\"\n",
    "ob1.disp_person()"
   ]
  },
  {
   "cell_type": "code",
   "execution_count": 5,
   "metadata": {},
   "outputs": [
    {
     "name": "stdout",
     "output_type": "stream",
     "text": [
      "par\n"
     ]
    }
   ],
   "source": [
    "#Q4 (B) hierarical inheritance\n",
    "class Person:\n",
    "    person_name=\"\"\n",
    "    member_name=\"\"\n",
    "    def disp_person(self):\n",
    "        print(self.person_name)\n",
    "\n",
    "class Employee(Person):\n",
    "    def disp_member(self):\n",
    "        print(self.member_name)\n",
    "class Student(Person):\n",
    "    def disp_member(self):\n",
    "        print(self.member_name)\n",
    "emp1=Employee()\n",
    "emp1.person_name=\"par\"\n",
    "emp1.member_name=\"abc_emp\"\n",
    "emp1.disp_person()\n"
   ]
  },
  {
   "cell_type": "code",
   "execution_count": 7,
   "metadata": {},
   "outputs": [
    {
     "name": "stdout",
     "output_type": "stream",
     "text": [
      "a b\n"
     ]
    }
   ],
   "source": [
    "#Q5\n",
    "class A:\n",
    "    A_name=\"\"\n",
    "    def disp_A(self):\n",
    "        print(self.person_name)\n",
    "\n",
    "class B:\n",
    "    B_name:\"\"\n",
    "    def disp_B(self):\n",
    "        print(self.member_name)\n",
    "        \n",
    "class C(A,B):\n",
    "    def disp_C(self):\n",
    "        print(self.A_name, self.B_name)\n",
    "ob1=C()\n",
    "ob1.A_name=\"a\"\n",
    "ob1.B_name=\"b\"\n",
    "ob1.disp_C()\n",
    "\n"
   ]
  }
 ],
 "metadata": {
  "kernelspec": {
   "display_name": "Python 3",
   "language": "python",
   "name": "python3"
  },
  "language_info": {
   "codemirror_mode": {
    "name": "ipython",
    "version": 3
   },
   "file_extension": ".py",
   "mimetype": "text/x-python",
   "name": "python",
   "nbconvert_exporter": "python",
   "pygments_lexer": "ipython3",
   "version": "3.8.5"
  }
 },
 "nbformat": 4,
 "nbformat_minor": 4
}
